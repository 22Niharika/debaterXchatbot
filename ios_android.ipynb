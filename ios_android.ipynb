{
  "nbformat": 4,
  "nbformat_minor": 0,
  "metadata": {
    "colab": {
      "name": "Untitled0.ipynb",
      "provenance": [],
      "collapsed_sections": [],
      "authorship_tag": "ABX9TyN9PuBLAaEZI4VMem71VZMA",
      "include_colab_link": true
    },
    "kernelspec": {
      "name": "python3",
      "display_name": "Python 3"
    },
    "language_info": {
      "name": "python"
    }
  },
  "cells": [
    {
      "cell_type": "markdown",
      "metadata": {
        "id": "view-in-github",
        "colab_type": "text"
      },
      "source": [
        "<a href=\"https://colab.research.google.com/github/22Niharika/debaterXchatbot/blob/master/ios_android.ipynb\" target=\"_parent\"><img src=\"https://colab.research.google.com/assets/colab-badge.svg\" alt=\"Open In Colab\"/></a>"
      ]
    },
    {
      "cell_type": "code",
      "metadata": {
        "id": "53EOWiacTNwV"
      },
      "source": [
        "import numpy as np\n",
        "import nltk\n",
        "import string\n",
        "import random"
      ],
      "execution_count": 1,
      "outputs": []
    },
    {
      "cell_type": "code",
      "metadata": {
        "colab": {
          "base_uri": "https://localhost:8080/"
        },
        "id": "UXS3nmu8TSqI",
        "outputId": "c635d2c5-1818-4659-bf81-1bee8dadcabc"
      },
      "source": [
        "f=open('ios_android.txt','r',errors = 'ignore') \n",
        "raw_doc = f.read() \n",
        "raw_doc = raw_doc.lower() \n",
        "nltk.download ('punkt') \n",
        "nltk.download ('wordnet') \n",
        "sent_tokens = nltk.sent_tokenize(raw_doc) \n",
        "word_tokens = nltk.word_tokenize(raw_doc) "
      ],
      "execution_count": 3,
      "outputs": [
        {
          "output_type": "stream",
          "name": "stdout",
          "text": [
            "[nltk_data] Downloading package punkt to /root/nltk_data...\n",
            "[nltk_data]   Unzipping tokenizers/punkt.zip.\n",
            "[nltk_data] Downloading package wordnet to /root/nltk_data...\n",
            "[nltk_data]   Unzipping corpora/wordnet.zip.\n"
          ]
        }
      ]
    },
    {
      "cell_type": "code",
      "metadata": {
        "colab": {
          "base_uri": "https://localhost:8080/"
        },
        "id": "VliY_sTYTUU6",
        "outputId": "81218f3d-2bae-4ed2-ae66-48169eda4fe6"
      },
      "source": [
        "sent_tokens[:2]"
      ],
      "execution_count": 4,
      "outputs": [
        {
          "output_type": "execute_result",
          "data": {
            "text/plain": [
              "['the iphone vs. android debate rages on, especially since apple just released ios 15 and android 12 is right around the corner.',\n",
              " 'while you can turn to a number of companies to buy one of the best phones, whatever you get is guaranteed to be running one of the two prominent mobile oss: ios (if you pick an iphone, such as the new iphone 13 series) or android (if you opt for anything else).']"
            ]
          },
          "metadata": {},
          "execution_count": 4
        }
      ]
    },
    {
      "cell_type": "code",
      "metadata": {
        "colab": {
          "base_uri": "https://localhost:8080/"
        },
        "id": "wsZFVfPRTW3O",
        "outputId": "f2bf11e7-217c-41b4-80cf-a5dd6e07876d"
      },
      "source": [
        "word_tokens[:4]"
      ],
      "execution_count": 5,
      "outputs": [
        {
          "output_type": "execute_result",
          "data": {
            "text/plain": [
              "['the', 'iphone', 'vs.', 'android']"
            ]
          },
          "metadata": {},
          "execution_count": 5
        }
      ]
    },
    {
      "cell_type": "code",
      "metadata": {
        "id": "6M1Ejag5TZ7V"
      },
      "source": [
        "lemmer = nltk.stem.WordNetLemmatizer()\n",
        "def LemTokens (tokens): \n",
        "  return [lemmer.lemmatize(token) for token in tokens] \n",
        "remove_punct_dict = dict((ord(punct), None) for punct in string.punctuation)\n",
        "def LemNormalize(text): \n",
        "  return LemTokens (nltk.word_tokenize(text.lower ().translate(remove_punct_dict)))"
      ],
      "execution_count": 6,
      "outputs": []
    },
    {
      "cell_type": "code",
      "metadata": {
        "id": "Zwy0_OA6Tav3"
      },
      "source": [
        "GREET_INPUTS = (\"hello\", \"hii\", \"hi\", \"hey\", \"good morning\", \"good\", \"morning\", \"gm\")\n",
        "GREET_RESPONSES = [\"hii\", \"hey there\", \"hello\", \"i am glad! you are talking to me\"]\n",
        "\n",
        "def greet(sentence):\n",
        "\n",
        "  for word in sentence.split():\n",
        "    if word.lower() in GREET_INPUTS:\n",
        "      return random.choice(GREET_RESPONSES)"
      ],
      "execution_count": 7,
      "outputs": []
    },
    {
      "cell_type": "code",
      "metadata": {
        "id": "aElrzDVHTd54"
      },
      "source": [
        "from sklearn.feature_extraction.text import TfidfVectorizer \n",
        "from sklearn.metrics.pairwise import cosine_similarity"
      ],
      "execution_count": 8,
      "outputs": []
    },
    {
      "cell_type": "code",
      "metadata": {
        "id": "CUFp1bHdTfZz"
      },
      "source": [
        "def response(user_response): \n",
        "  robo1_response=''\n",
        "  TfidfVec = TfidfVectorizer(tokenizer=LemNormalize, stop_words='english')\n",
        "  tfidf = TfidfVec.fit_transform(sent_tokens)\n",
        "  vals = cosine_similarity(tfidf[-1], tfidf) \n",
        "  idx = vals.argsort()[0][-2] \n",
        "  flat = vals.flatten()\n",
        "  flat.sort()\n",
        "  req_tfidf = flat[-2]\n",
        "  if (req_tfidf==0): \n",
        "    robo1_response = robo1_response+\"I am sorry! I don't understand you\" \n",
        "    return robo1_response\n",
        "  else: \n",
        "    robo1_response = robo1_response+sent_tokens[idx] \n",
        "    return robo1_response"
      ],
      "execution_count": 9,
      "outputs": []
    },
    {
      "cell_type": "code",
      "metadata": {
        "colab": {
          "base_uri": "https://localhost:8080/"
        },
        "id": "XpE21oNbThkI",
        "outputId": "370c6c4a-5618-4a63-d554-91953b972d36"
      },
      "source": [
        "flag = True\n",
        "print(\"my name is nikk . To exit type bye\")\n",
        "\n",
        "while (flag == True):\n",
        "  user_response = input()\n",
        "  user_response = user_response.lower()\n",
        "  if (user_response != 'bye'): \n",
        "    if (user_response == 'thanks' or user_response == 'thank you'): \n",
        "      flag = False \n",
        "      print(\"nikk: You are welcome..\") \n",
        "    else: \n",
        "      if (greet(user_response) != None):\n",
        "        print(\"nikk: \"+greet(user_response)) \n",
        "      else: \n",
        "        sent_tokens.append(user_response)\n",
        "        word_tokens = word_tokens+nltk.word_tokenize(user_response)\n",
        "        final_words = list(set(word_tokens))\n",
        "        print(\"nikk: \", end=\"\")\n",
        "        print(response(user_response))\n",
        "        sent_tokens.remove(user_response)\n",
        "  else: \n",
        "    flag=False \n",
        "    print(\"nikk: Goodbye! Take care\")"
      ],
      "execution_count": null,
      "outputs": [
        {
          "output_type": "stream",
          "name": "stdout",
          "text": [
            "my name is nikk . To exit type bye\n",
            "hi\n",
            "nikk: hii\n",
            "gm\n",
            "nikk: hii\n"
          ]
        }
      ]
    }
  ]
}