{
  "nbformat": 4,
  "nbformat_minor": 0,
  "metadata": {
    "colab": {
      "name": "feminism.ipynb",
      "provenance": [],
      "collapsed_sections": []
    },
    "kernelspec": {
      "name": "python3",
      "display_name": "Python 3"
    },
    "language_info": {
      "name": "python"
    }
  },
  "cells": [
    {
      "cell_type": "code",
      "metadata": {
        "id": "53EOWiacTNwV"
      },
      "source": [
        "import numpy as np\n",
        "import nltk\n",
        "import string\n",
        "import random"
      ],
      "execution_count": 13,
      "outputs": []
    },
    {
      "cell_type": "code",
      "metadata": {
        "colab": {
          "base_uri": "https://localhost:8080/"
        },
        "id": "UXS3nmu8TSqI",
        "outputId": "e2ff96cf-e25e-4cf5-a929-e0f3c23cc8a3"
      },
      "source": [
        "f=open('feminism.txt','r',errors = 'ignore') \n",
        "raw_doc = f.read() \n",
        "raw_doc = raw_doc.lower() \n",
        "nltk.download ('punkt') \n",
        "nltk.download ('wordnet') \n",
        "sent_tokens = nltk.sent_tokenize(raw_doc) \n",
        "word_tokens = nltk.word_tokenize(raw_doc) "
      ],
      "execution_count": 14,
      "outputs": [
        {
          "output_type": "stream",
          "name": "stdout",
          "text": [
            "[nltk_data] Downloading package punkt to /root/nltk_data...\n",
            "[nltk_data]   Package punkt is already up-to-date!\n",
            "[nltk_data] Downloading package wordnet to /root/nltk_data...\n",
            "[nltk_data]   Package wordnet is already up-to-date!\n"
          ]
        }
      ]
    },
    {
      "cell_type": "code",
      "metadata": {
        "colab": {
          "base_uri": "https://localhost:8080/"
        },
        "id": "VliY_sTYTUU6",
        "outputId": "23b642d8-28a1-4a30-9741-f8189a3963e7"
      },
      "source": [
        "sent_tokens[:2]"
      ],
      "execution_count": 15,
      "outputs": [
        {
          "output_type": "execute_result",
          "data": {
            "text/plain": [
              "['feminism is a range of social movements, political movements, and ideologies that aim to define and establish the political, economic, personal, and social equality of the sexes.',\n",
              " '[a][2][3][4][5] feminism incorporates the position that societies prioritize the male point of view, and that women are treated unjustly within those societies.']"
            ]
          },
          "metadata": {},
          "execution_count": 15
        }
      ]
    },
    {
      "cell_type": "code",
      "metadata": {
        "colab": {
          "base_uri": "https://localhost:8080/"
        },
        "id": "wsZFVfPRTW3O",
        "outputId": "f2bf11e7-217c-41b4-80cf-a5dd6e07876d"
      },
      "source": [
        "word_tokens[:4]"
      ],
      "execution_count": 5,
      "outputs": [
        {
          "output_type": "execute_result",
          "data": {
            "text/plain": [
              "['the', 'iphone', 'vs.', 'android']"
            ]
          },
          "metadata": {},
          "execution_count": 5
        }
      ]
    },
    {
      "cell_type": "code",
      "metadata": {
        "id": "6M1Ejag5TZ7V"
      },
      "source": [
        "lemmer = nltk.stem.WordNetLemmatizer()\n",
        "def LemTokens (tokens): \n",
        "  return [lemmer.lemmatize(token) for token in tokens] \n",
        "remove_punct_dict = dict((ord(punct), None) for punct in string.punctuation)\n",
        "def LemNormalize(text): \n",
        "  return LemTokens (nltk.word_tokenize(text.lower ().translate(remove_punct_dict)))"
      ],
      "execution_count": 6,
      "outputs": []
    },
    {
      "cell_type": "code",
      "metadata": {
        "id": "Zwy0_OA6Tav3"
      },
      "source": [
        "GREET_INPUTS = (\"hello\", \"hii\", \"hi\", \"hey\", \"good morning\", \"good\", \"morning\", \"gm\")\n",
        "GREET_RESPONSES = [\"hii\", \"hey there\", \"hello\", \"i am glad! you are talking to me\"]\n",
        "\n",
        "def greet(sentence):\n",
        "\n",
        "  for word in sentence.split():\n",
        "    if word.lower() in GREET_INPUTS:\n",
        "      return random.choice(GREET_RESPONSES)"
      ],
      "execution_count": 16,
      "outputs": []
    },
    {
      "cell_type": "code",
      "metadata": {
        "id": "aElrzDVHTd54"
      },
      "source": [
        "from sklearn.feature_extraction.text import TfidfVectorizer \n",
        "from sklearn.metrics.pairwise import cosine_similarity"
      ],
      "execution_count": 8,
      "outputs": []
    },
    {
      "cell_type": "code",
      "metadata": {
        "id": "CUFp1bHdTfZz"
      },
      "source": [
        "def response(user_response): \n",
        "  robo1_response=''\n",
        "  TfidfVec = TfidfVectorizer(tokenizer=LemNormalize, stop_words='english')\n",
        "  tfidf = TfidfVec.fit_transform(sent_tokens)\n",
        "  vals = cosine_similarity(tfidf[-1], tfidf) \n",
        "  idx = vals.argsort()[0][-2] \n",
        "  flat = vals.flatten()\n",
        "  flat.sort()\n",
        "  req_tfidf = flat[-2]\n",
        "  if (req_tfidf==0): \n",
        "    robo1_response = robo1_response+\"I am sorry! I don't understand you\" \n",
        "    return robo1_response\n",
        "  else: \n",
        "    robo1_response = robo1_response+sent_tokens[idx] \n",
        "    return robo1_response"
      ],
      "execution_count": 9,
      "outputs": []
    },
    {
      "cell_type": "code",
      "metadata": {
        "colab": {
          "base_uri": "https://localhost:8080/"
        },
        "id": "XpE21oNbThkI",
        "outputId": "386b30bc-2b30-4591-fa95-93909b608954"
      },
      "source": [
        "flag = True\n",
        "print(\"my name is nikk . To exit type bye\")\n",
        "\n",
        "while (flag == True):\n",
        "  user_response = input()\n",
        "  user_response = user_response.lower()\n",
        "  if (user_response != 'bye'): \n",
        "    if (user_response == 'thanks' or user_response == 'thank you'): \n",
        "      flag = False \n",
        "      print(\"nikk: You are welcome..\") \n",
        "    else: \n",
        "      if (greet(user_response) != None):\n",
        "        print(\"nikk: \"+greet(user_response)) \n",
        "      else: \n",
        "        sent_tokens.append(user_response)\n",
        "        word_tokens = word_tokens+nltk.word_tokenize(user_response)\n",
        "        final_words = list(set(word_tokens))\n",
        "        print(\"nikk: \", end=\"\")\n",
        "        print(response(user_response))\n",
        "        sent_tokens.remove(user_response)\n",
        "  else: \n",
        "    flag=False \n",
        "    print(\"nikk: Goodbye! Take care\")"
      ],
      "execution_count": 17,
      "outputs": [
        {
          "name": "stdout",
          "output_type": "stream",
          "text": [
            "my name is nikk . To exit type bye\n",
            "hi\n",
            "nikk: hii\n",
            "feminism\n"
          ]
        },
        {
          "output_type": "stream",
          "name": "stderr",
          "text": [
            "/usr/local/lib/python3.7/dist-packages/sklearn/feature_extraction/text.py:385: UserWarning: Your stop_words may be inconsistent with your preprocessing. Tokenizing the stop words generated tokens ['ha', 'le', 'u', 'wa'] not in stop_words.\n",
            "  'stop_words.' % sorted(inconsistent))\n"
          ]
        },
        {
          "output_type": "stream",
          "name": "stdout",
          "text": [
            "nikk: [114]\n",
            "\n",
            "liberal feminism is a very broad term that encompasses many, often diverging modern branches and a variety of feminist and general political perspectives; some historically liberal branches are equality feminism, social feminism, equity feminism, difference feminism, individualist/libertarian feminism and some forms of state feminism, particularly the state feminism of the nordic countries.\n",
            "bye\n",
            "nikk: Goodbye! Take care\n"
          ]
        }
      ]
    }
  ]
}